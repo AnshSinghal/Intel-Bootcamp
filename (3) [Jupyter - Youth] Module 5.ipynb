{
 "cells": [
  {
   "cell_type": "markdown",
   "metadata": {},
   "source": [
    "# Data acquisition with the Fashion MNIST Dataset\n",
    "\n",
    "In this notebook we will be going through some methods to obtain the Fashion MNIST dataset. Just like in the previous notebook, we will be going through the process of obtaining the data that we need."
   ]
  },
  {
   "cell_type": "markdown",
   "metadata": {},
   "source": [
    "\n",
    "We can find the Fashion MNIST dataset in multiple ways online, but we will be going through a simple code procedure to make the process easier for us. We will be writing code to obtain the data for us. \n",
    "\n",
    "For further references to the data, check https://github.com/zalandoresearch/fashion-mnist.\n",
    "\n",
    "For the script to work, make sure you have the os, wget, pandas and matplotlib library installed in your python virtual environment.\n",
    "\n",
    "## 1.1 Import Data through pandas"
   ]
  },
  {
   "cell_type": "code",
   "execution_count": null,
   "metadata": {},
   "outputs": [],
   "source": [
    "import pandas as pd # Pandas for data manipulation\n",
    "import numpy as np # numpy for data manipulation\n",
    "import matplotlib.pyplot as plt # matplotlib for plotting\n",
    "from sklearn.model_selection import train_test_split"
   ]
  },
  {
   "cell_type": "markdown",
   "metadata": {},
   "source": [
    "Were you able to succesfully import these libraries? If not ask for some assistance, but if you did succeed it is time to cheer!!\n",
    "\n",
    "We will now try to obtain the data for the fashion MNIST dataset. For the sake of convinience we have already placed the data in a folder called FMNIST. Try to look inside it, what do you see? Why do you see 2 files?"
   ]
  },
  {
   "cell_type": "code",
   "execution_count": 1,
   "metadata": {},
   "outputs": [],
   "source": [
    "# The 2 files exist because the data has been split into training data and testing data for our convinience. "
   ]
  },
  {
   "cell_type": "markdown",
   "metadata": {},
   "source": [
    "The Fashion MNIST dataset is a csv file. Now, open the dataset using the pd.read_csv() function and assign it into variables 'raw_data_train' and 'raw_data_test'. Then, print out the first 5 rows of the dataframe to see the data attribute. What do you notice?"
   ]
  },
  {
   "cell_type": "code",
   "execution_count": null,
   "metadata": {},
   "outputs": [],
   "source": []
  },
  {
   "cell_type": "code",
   "execution_count": null,
   "metadata": {},
   "outputs": [],
   "source": [
    "raw_data_train.head()"
   ]
  },
  {
   "cell_type": "markdown",
   "metadata": {},
   "source": [
    "Do you have any burning questions in your mind? If you do, now might be a good time to raise your hand and ask away to your instructors. \n",
    "\n",
    "If you are confident with the content so far, we can move on to a small task. Now use pandas to obtain basic information (Number of rows and columns, type of data, number of missing values and basic statistics) about the dataset. Use .info() and .describe() to obtain basic information about the dataset!"
   ]
  },
  {
   "cell_type": "code",
   "execution_count": null,
   "metadata": {},
   "outputs": [],
   "source": [
    "# ANSWER\n"
   ]
  },
  {
   "cell_type": "markdown",
   "metadata": {},
   "source": [
    "Now that you have completed importing the data we can move on to a simple task of finding the data types within this data frame. Can you find the unique data types within this data frame and print them out?"
   ]
  },
  {
   "cell_type": "code",
   "execution_count": null,
   "metadata": {},
   "outputs": [],
   "source": [
    "# ANSWER\n"
   ]
  },
  {
   "cell_type": "markdown",
   "metadata": {},
   "source": [
    "Congratulations on completing the Fashion MNIST data acquisition notebook. If you have finished early take some time to play around with the dataset and learn more about it. \n",
    "\n",
    "1. Are there other ways we can import data such as image data, if so how?\n",
    "2. Our images in the Fahsion MNIST dataset are grayscale. How would the dataframes change if the dataset were comprised of color images?"
   ]
  },
  {
   "cell_type": "code",
   "execution_count": null,
   "metadata": {},
   "outputs": [],
   "source": []
  },
  {
   "cell_type": "code",
   "execution_count": null,
   "metadata": {},
   "outputs": [],
   "source": []
  }
 ],
 "metadata": {
  "kernelspec": {
   "display_name": "Python 3",
   "language": "python",
   "name": "python3"
  },
  "language_info": {
   "codemirror_mode": {
    "name": "ipython",
    "version": 3
   },
   "file_extension": ".py",
   "mimetype": "text/x-python",
   "name": "python",
   "nbconvert_exporter": "python",
   "pygments_lexer": "ipython3",
   "version": "3.6.9"
  }
 },
 "nbformat": 4,
 "nbformat_minor": 2
}
